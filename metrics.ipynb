{
  "nbformat": 4,
  "nbformat_minor": 0,
  "metadata": {
    "colab": {
      "name": "metrics",
      "provenance": []
    },
    "kernelspec": {
      "name": "python3",
      "display_name": "Python 3"
    }
  },
  "cells": [
    {
      "cell_type": "code",
      "metadata": {
        "id": "wdJi2BEyBehi",
        "colab_type": "code",
        "colab": {}
      },
      "source": [
        "import pickle\n",
        "\n",
        "import numpy as np\n",
        "import pandas as pd"
      ],
      "execution_count": null,
      "outputs": []
    },
    {
      "cell_type": "code",
      "metadata": {
        "id": "Qm_vHueCDxgB",
        "colab_type": "code",
        "colab": {}
      },
      "source": [
        "def avg_reward(rewards):\n",
        "    return np.mean(rewards)"
      ],
      "execution_count": null,
      "outputs": []
    },
    {
      "cell_type": "code",
      "metadata": {
        "id": "yLp9l18JDFAk",
        "colab_type": "code",
        "colab": {}
      },
      "source": [
        "def dr_success_rate(controlls, tolerances):\n",
        "    return sum(1 for c, t in zip(controlls, tolerances) if c >= t) / len(tolerances)"
      ],
      "execution_count": null,
      "outputs": []
    },
    {
      "cell_type": "code",
      "metadata": {
        "id": "jmhjS0F9_lkW",
        "colab_type": "code",
        "colab": {}
      },
      "source": [
        "def comfort(controlls, tolerances):\n",
        "    return np.mean((np.subtract(controlls, tolerances)))"
      ],
      "execution_count": null,
      "outputs": []
    },
    {
      "cell_type": "code",
      "metadata": {
        "id": "YjhMKEH7BimS",
        "colab_type": "code",
        "colab": {}
      },
      "source": [
        "def saving_energy(olds, controlls, tolerances):\n",
        "    sum = 0\n",
        "    for o, c, t in zip(olds, controlls, tolerances):\n",
        "        sum += (o - c) if c >= t else 0\n",
        "    \n",
        "    return sum*(1/4)"
      ],
      "execution_count": null,
      "outputs": []
    },
    {
      "cell_type": "code",
      "metadata": {
        "id": "BfUGceDCIWgn",
        "colab_type": "code",
        "colab": {}
      },
      "source": [
        "def dr_reward(olds, controlls, tolerances, steps, normal):\n",
        "    lowest = normal * 0.15\n",
        "    theta = 24 * 4 * 5 / 2\n",
        "\n",
        "    dr_theta = steps // 156\n",
        "\n",
        "    counts = 0\n",
        "    rewards = []\n",
        "    records = []\n",
        "    for o, c, t in zip(olds, controlls, tolerances):\n",
        "        counts += 1\n",
        "\n",
        "        if counts > dr_theta - theta:\n",
        "            records.append(o)\n",
        "\n",
        "        if counts == dr_theta:\n",
        "            if c > t:\n",
        "                cbl = np.mean(sorted(records, reverse=True)[:5])\n",
        "                saving = cbl - c\n",
        "                reward = 223.6 * (saving - lowest) * 0.25\n",
        "                rewards.append(reward if reward > 0 else 0)\n",
        "            \n",
        "            counts = 0\n",
        "            records = []\n",
        "\n",
        "    return sum(rewards)"
      ],
      "execution_count": null,
      "outputs": []
    },
    {
      "cell_type": "code",
      "metadata": {
        "id": "j4_Vu8n9Ee2x",
        "colab_type": "code",
        "colab": {}
      },
      "source": [
        "# load info.pkl from multiple dirs\n",
        "\n",
        "base_path = '/content/drive/My Drive/output/random'\n",
        "output_dirs = [\n",
        "    'F_el10_s600_e811_r11_iter45_a25_05_random10-70_a08',\n",
        "    'F_el10_s600_e811_r11_iter45_a25_05_random10-70_a10',\n",
        "    'F_el10_s600_e811_r11_iter45_a25_05_random10-70_a12',\n",
        "    'F_el10_s600_e811_r11_iter45_a25_05_random10-70_a14',\n",
        "    'F_el10_s600_e811_r11_iter45_a25_05_random10-70_a16',\n",
        "    'F_el10_s600_e811_r11_iter45_a25_05_random10-70_a20',\n",
        "    'F_el10_s600_e811_r11_iter45_a25_05_random10-70_a25',\n",
        "    'F_el10_s600_e811_r11_iter45_a25_05_random10-70_a30',\n",
        "]\n",
        "\n",
        "outs = []\n",
        "\n",
        "for dir in output_dirs:\n",
        "    with open(f'{base_path}/{dir}/info.pkl', 'rb') as f:\n",
        "        outs.append(pickle.load(f))"
      ],
      "execution_count": null,
      "outputs": []
    },
    {
      "cell_type": "code",
      "metadata": {
        "id": "9LVcPaDQHnDC",
        "colab_type": "code",
        "colab": {}
      },
      "source": [
        "r = 11"
      ],
      "execution_count": null,
      "outputs": []
    },
    {
      "cell_type": "code",
      "metadata": {
        "id": "VHv68AxaIc7l",
        "colab_type": "code",
        "colab": {}
      },
      "source": [
        "# DR reward\n",
        "for out in outs[:]:\n",
        "    print(dr_reward(out['old_powers'][::r+1], np.add(out['old_powers'][::r+1], out['actions'][::r+1]), out['tolerable_powers'][::r+1], 40500, 0.629317778))"
      ],
      "execution_count": null,
      "outputs": []
    },
    {
      "cell_type": "code",
      "metadata": {
        "id": "Cgrp6ouqEuyF",
        "colab_type": "code",
        "colab": {}
      },
      "source": [
        "# Reward\n",
        "for out in outs:\n",
        "    print(avg_reward(out['rewards'][::r+1]))"
      ],
      "execution_count": null,
      "outputs": []
    },
    {
      "cell_type": "code",
      "metadata": {
        "id": "aM4oSiqBJcXG",
        "colab_type": "code",
        "colab": {}
      },
      "source": [
        "# DR\n",
        "for out in outs:\n",
        "    print(dr_success_rate(np.add(out['old_powers'][::r+1], out['actions'][::r+1]), out['tolerable_powers'][::r+1]))"
      ],
      "execution_count": null,
      "outputs": []
    },
    {
      "cell_type": "code",
      "metadata": {
        "id": "jWXMyXFvKHWM",
        "colab_type": "code",
        "colab": {}
      },
      "source": [
        "# Comfort\n",
        "for out in outs:\n",
        "    print(comfort(np.add(out['old_powers'][::r+1], out['actions'][::r+1]), out['tolerable_powers'][::r+1]))"
      ],
      "execution_count": null,
      "outputs": []
    },
    {
      "cell_type": "code",
      "metadata": {
        "id": "91opIEA2GO_t",
        "colab_type": "code",
        "colab": {}
      },
      "source": [
        "# Energy\n",
        "for out in outs:\n",
        "    print(saving_energy(out['old_powers'][::r+1], np.add(out['old_powers'][::r+1], out['actions'][::r+1]), out['tolerable_powers'][::r+1]))"
      ],
      "execution_count": null,
      "outputs": []
    }
  ]
}