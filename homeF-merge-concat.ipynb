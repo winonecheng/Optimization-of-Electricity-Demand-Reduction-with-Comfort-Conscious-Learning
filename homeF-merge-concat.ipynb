{
 "cells": [
  {
   "cell_type": "code",
   "execution_count": 19,
   "metadata": {},
   "outputs": [],
   "source": [
    "%matplotlib inline\n",
    "from datetime import datetime\n",
    "\n",
    "import pandas as pd\n",
    "import numpy as np"
   ]
  },
  {
   "cell_type": "code",
   "execution_count": 2,
   "metadata": {},
   "outputs": [],
   "source": [
    "house_id = 'F'\n",
    "meter_number = 2\n",
    "dfs = []\n",
    "\n",
    "for year in [2014, 2015, 2016]:\n",
    "\n",
    "    power_df = pd.read_csv(f'./Home{house_id}/{year}/Home{house_id}-meter{meter_number}_{year}.csv')\n",
    "    power_df.rename(columns={'Date & Time': 'time'}, inplace=True)\n",
    "    power_df['time'] = power_df['time'].map(lambda x: datetime.strptime(x, '%Y-%m-%d %H:%M:%S'))\n",
    "\n",
    "    weather_df = pd.read_csv(f'./Home{house_id}/home{house_id}{year}.csv')\n",
    "    weather_df['time'] = weather_df['time'].map(lambda x: datetime.utcfromtimestamp(x - 3600*5))\n",
    "    merge_df = pd.merge(power_df, weather_df, on='time', how='left')\n",
    "    dfs.append(merge_df)"
   ]
  },
  {
   "cell_type": "code",
   "execution_count": 3,
   "metadata": {},
   "outputs": [],
   "source": [
    "df = pd.concat(dfs)\n",
    "df = df.interpolate().fillna(method='ffill')\n",
    "df = df.set_index('time', drop=True)"
   ]
  },
  {
   "cell_type": "code",
   "execution_count": 13,
   "metadata": {},
   "outputs": [
    {
     "data": {
      "text/plain": [
       "Usage [kW]                  0\n",
       "Generation [kW]             0\n",
       "WaterHeater [kW]            0\n",
       "Solar [kW]                  0\n",
       "Refrigerator [kW]           0\n",
       "Microwave [kW]              0\n",
       "Furnace [kW]                0\n",
       "WaterHeater3 [kW]           0\n",
       "WaterHeater2 [kW]           0\n",
       "WaterHeater1 [kW]           0\n",
       "Master_Bdrm [kW]            0\n",
       "Front_Bdrm [kW]             0\n",
       "Kit_StoveWall [kW]          0\n",
       "Dishwasher_Disposal [kW]    0\n",
       "Kit_SinkWall [kW]           0\n",
       "Family_Rm [kW]              0\n",
       "Kit_Half-Bath_Foyer [kW]    0\n",
       "Washing_Machine [kW]        0\n",
       "Guest_Bdrm_SmkDet [kW]      0\n",
       "Dryer [kW]                  0\n",
       "Basement [kW]               0\n",
       "Phase_B [kW]                0\n",
       "Phase_A [kW]                0\n",
       "temperature                 0\n",
       "icon                        0\n",
       "humidity                    0\n",
       "visibility                  0\n",
       "summary                     0\n",
       "apparentTemperature         0\n",
       "pressure                    0\n",
       "windSpeed                   0\n",
       "cloudCover                  0\n",
       "windBearing                 0\n",
       "precipIntensity             0\n",
       "dewPoint                    0\n",
       "precipProbability           0\n",
       "dtype: int64"
      ]
     },
     "execution_count": 13,
     "metadata": {},
     "output_type": "execute_result"
    }
   ],
   "source": [
    "df.isna().sum()"
   ]
  },
  {
   "cell_type": "code",
   "execution_count": 50,
   "metadata": {},
   "outputs": [],
   "source": [
    "df.to_csv('HomeF.csv')"
   ]
  }
 ],
 "metadata": {
  "kernelspec": {
   "display_name": "Python 3",
   "language": "python",
   "name": "python3"
  },
  "language_info": {
   "codemirror_mode": {
    "name": "ipython",
    "version": 3
   },
   "file_extension": ".py",
   "mimetype": "text/x-python",
   "name": "python",
   "nbconvert_exporter": "python",
   "pygments_lexer": "ipython3",
   "version": "3.7.7"
  }
 },
 "nbformat": 4,
 "nbformat_minor": 4
}
